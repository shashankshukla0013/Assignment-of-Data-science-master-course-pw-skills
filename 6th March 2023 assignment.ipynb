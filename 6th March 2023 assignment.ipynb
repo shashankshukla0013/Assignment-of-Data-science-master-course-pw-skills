{
 "cells": [
  {
   "cell_type": "code",
   "execution_count": null,
   "id": "90a42f89-f7ee-4540-8b74-5aebb180b2e1",
   "metadata": {},
   "outputs": [],
   "source": [
    "Q1. What is Statistics?"
   ]
  },
  {
   "cell_type": "code",
   "execution_count": null,
   "id": "f5fe88ee-6e0a-4b65-848e-3533b76073e5",
   "metadata": {},
   "outputs": [],
   "source": [
    "A1. Statistics is a science  of collecting, analyzing, interpreting, presenting,\n",
    "    and organizing data in a particular manner.\n",
    "    \n",
    "    Statistics is defined as the process of collection of data, classifying data,\n",
    "    representing the data for easy interpretation, and further analysis of data."
   ]
  },
  {
   "cell_type": "code",
   "execution_count": null,
   "id": "18fe3d0f-5687-4231-bae4-c7e78fc8ac35",
   "metadata": {},
   "outputs": [],
   "source": [
    "Q2. Define the different types of statistics and give an example of when each type might be used."
   ]
  },
  {
   "cell_type": "code",
   "execution_count": null,
   "id": "28f2fa2b-b156-498b-b1b5-f950aaba0db9",
   "metadata": {},
   "outputs": [],
   "source": [
    "A2. There are two kinds of Statistics, \n",
    "    which are \n",
    "        1. Descriptive Statistics --> It is organizing and summarizing of data. \n",
    "        2. Inferential Statistics --> It is to measure conclusion from the descriptive data .\n",
    "    \n",
    "     Example of when each type might be used\n",
    "        1. Descriptive Statistics --> The collection of students of a class to find average height . \n",
    "        2. Inferential Statistics --> Is the height of the students increases or decreases as compared to previous year."
   ]
  },
  {
   "cell_type": "code",
   "execution_count": null,
   "id": "d0ff5021-5d54-4e28-9bb4-b6ece7cde13f",
   "metadata": {},
   "outputs": [],
   "source": [
    "Q3. What are the different types of data and how do they differ from each other?\n",
    "    Provide an example of each type of data."
   ]
  },
  {
   "cell_type": "code",
   "execution_count": null,
   "id": "7962c303-c13b-42d1-82a2-e78cfc9fb9bd",
   "metadata": {},
   "outputs": [],
   "source": [
    "A3. There are two types of data: \n",
    "    1. Quantitative data (Numerical variable) --> (a): These can be measured and not simply observed.\n",
    "                                                  (b): They can be numerically represented and calculations \n",
    "                                                        can be performed on them. \n",
    "                                                  (c): For example, \n",
    "                                                        Data on the number of students playing different sports \n",
    "                                                        from your class gives an estimate of how many of the total students play\n",
    "                                                        which sport. \n",
    "    2. Qualitative data (Categorical variable)--> (a):They represent some characteristics or attributes.\n",
    "                                                  (b): They depict descriptions that may be observed\n",
    "                                                        but cannot be computed or calculated. \n",
    "                                                  (c): For example, \n",
    "                                                        Data on attributes such as intelligence, honesty, wisdom, cleanliness, \n",
    "                                                            and creativity collected using the students of your \n",
    "                                                            class a sample would be classified as qualitative.\n",
    "                                                "
   ]
  },
  {
   "cell_type": "code",
   "execution_count": null,
   "id": "4e87f23c-e989-42aa-a637-d975a3fe148e",
   "metadata": {},
   "outputs": [],
   "source": [
    "Q4. Categorise the following datasets with respect to quantitative and qualitative data types:\n",
    "    (i) Grading in exam: A+, A, B+, B, C+, C, D, E \n",
    "    (ii) Colour of mangoes: yellow, green, orange, red \n",
    "    (iii) Height data of a class: [178.9, 179, 179.5, 176, 177.2, 178.3, 175.8,...]\n",
    "    (iv) Number of mangoes exported by a farm: [500, 600, 478, 672, ...]"
   ]
  },
  {
   "cell_type": "code",
   "execution_count": null,
   "id": "0d760051-05e7-44a6-936b-e553452b24f8",
   "metadata": {},
   "outputs": [],
   "source": [
    "A4. (i) Grading in exam: A+, A, B+, B, C+, C, D, E -->  Qualitative data types\n",
    "    (ii) Colour of mangoes: yellow, green, orange, red -->  Qualitative data types \n",
    "    (iii) Height data of a class: [178.9, 179, 179.5, 176, 177.2, 178.3, 175.8,...] -->  Quantitative data types \n",
    "    (iv) Number of mangoes exported by a farm: [500, 600, 478, 672, ...]  -->  Quantitative data types "
   ]
  },
  {
   "cell_type": "code",
   "execution_count": null,
   "id": "98b20793-8b18-4946-a383-d0f98baf7002",
   "metadata": {},
   "outputs": [],
   "source": [
    "Q5. Explain the concept of levels of measurement and give an example of a variable for each level."
   ]
  },
  {
   "cell_type": "code",
   "execution_count": null,
   "id": "73d62c57-861b-45f1-a902-8377f1f747fe",
   "metadata": {},
   "outputs": [],
   "source": [
    "A5. Levels of measurement, also called scales of measurement, tell you how precisely variables are recorded.\n",
    "    In scientific research, a variable is anything that can take on different values across your data set\n",
    "    (e.g., height or test scores).\n",
    "\n",
    "    There are 4 levels of measurement:\n",
    "\n",
    "        Nominal: The data can only be categorized.\n",
    "                        Example --> gender, blood-group.\n",
    "        Ordinal: The data can be categorized and ranked.\n",
    "                        Example --> customer feeedback\n",
    "        Interval: The data can be categorized, ranked, and evenly spaced.\n",
    "                        Example --> Temperature variable\n",
    "        Ratio: The data can be categorized, ranked, evenly spaced, and has a natural zero.\n",
    "                        Example --> Student marks"
   ]
  },
  {
   "cell_type": "code",
   "execution_count": null,
   "id": "8778274c-c81c-49c2-a87e-523bd42c8741",
   "metadata": {},
   "outputs": [],
   "source": [
    "Q6. Why is it important to understand the level of measurement when analyzing data? Provide an\n",
    "example to illustrate your answer."
   ]
  },
  {
   "cell_type": "code",
   "execution_count": null,
   "id": "7c13c967-c121-4e7d-b2bd-286ebbf19471",
   "metadata": {},
   "outputs": [],
   "source": [
    "A6. It is important to understand the level of measurement when analyzing data, \n",
    "        because the level of measurement determines the type of statistical analysis that can be conducted,\n",
    "        and therefore, the type of conclusions that can be drawn from the research.\n",
    "        \n",
    "    Example -->   The variable of marital status may be measured by two categories,\n",
    "                    married and unmarried.  \n",
    "                But these must each be defined so that all possible observations will fit into one category\n",
    "                but no more than one:  legally married, common-law marriage, religious marriage, civil marriage,\n",
    "                                        living together, never married, divorced, informally separated, \n",
    "                                        legally separated, widowed, abandoned, annulled, etc."
   ]
  },
  {
   "cell_type": "code",
   "execution_count": null,
   "id": "41a757f2-c4a2-43bd-a27d-4971adb900d8",
   "metadata": {},
   "outputs": [],
   "source": [
    "Q7. How nominal data type is different from ordinal data type."
   ]
  },
  {
   "cell_type": "code",
   "execution_count": null,
   "id": "44451a8a-dade-4ee7-9ea2-e23c94a3d972",
   "metadata": {},
   "outputs": [],
   "source": [
    "A7. 1. Nominal data is a group of non-parametric variables,\n",
    "            whereas Ordinal data is a group of non-parametric ordered variables.\n",
    "    2. Ordinal data is analyzed by mode, median, quartiles, and percentile, \n",
    "            whereas nominal data is analyzed by grouping variables into categories and calculating the distribution mode.\n",
    "    3. Nominal data are categorical, whereas Ordinal data are both categorical and quantitative.\n",
    "     "
   ]
  },
  {
   "cell_type": "code",
   "execution_count": null,
   "id": "0df8b887-6be8-49e0-8232-9e8139ca8ba0",
   "metadata": {},
   "outputs": [],
   "source": [
    "Q8. Which type of plot can be used to display data in terms of range?"
   ]
  },
  {
   "cell_type": "code",
   "execution_count": null,
   "id": "c0f4cc27-b6e7-4d6b-9a3d-a8684c6f398b",
   "metadata": {},
   "outputs": [],
   "source": [
    "A8. Histogram can be used to display data in terms of range."
   ]
  },
  {
   "cell_type": "code",
   "execution_count": null,
   "id": "f69a478f-f858-4255-8054-ed11db54073a",
   "metadata": {},
   "outputs": [],
   "source": [
    "Q9. Describe the difference between descriptive and inferential statistics. Give an example of each\n",
    "     type of statistics and explain how they are used."
   ]
  },
  {
   "cell_type": "code",
   "execution_count": null,
   "id": "4a7354e4-161c-4eeb-8b5f-f9c42f92798b",
   "metadata": {},
   "outputs": [],
   "source": [
    "A9.  Descriptive Statistics -->\n",
    "\n",
    "        Descriptive Statistics is a simple technique to describe, show and summarize data in a meaningful way.\n",
    "        You simply choose a group you’re interested in, record data about the group,\n",
    "        and then use summary statistics and graphs to describe the group properties.\n",
    "        There is no uncertainty involved because you’re just describing the people or items that you actually measure.\n",
    "        You’re not aiming to infer properties about a large data set. \n",
    "    \n",
    "    \n",
    "    Inferential Statistics -->\n",
    "      In Inferential Statistics, the focus is on making predictions about a large group of data based\n",
    "        on a representative sample of the population.\n",
    "        A random sample of data is considered from a population to describe and make inferences about the population. \n",
    "        This technique allows you to work with a small sample rather than the whole population. \n",
    "        The accuracy of inferential statistics depends largely on the accuracy of sample data and\n",
    "        how it represents the larger population. \n",
    "\n",
    "        Types of Descriptive Statistics  \n",
    "             There are three major types of Descriptive Statistics. \n",
    "\n",
    "                    1. Frequency Distribution\n",
    "                            Frequency distribution is used to show how often a response \n",
    "                                is given for quantitative as well as qualitative data. \n",
    "                                It shows the count, percent, or frequency of different outcomes occurring\n",
    "                                in a given data set. Frequency distribution is usually represented in a table or graph. \n",
    "                                Bar charts, histograms, pie charts, and line charts are commonly used to \n",
    "                                present frequency distribution. Each entry in the graph or table is \n",
    "                                accompanied by how many times the value occurs in a specific interval, range, or group.\n",
    "                                \n",
    "\n",
    "\n",
    "                    2. Central Tendency  \n",
    "                            Central tendency includes the descriptive summary of a dataset using a single value\n",
    "                                that reflects the center of the data distribution.\n",
    "                                It locates the distribution by various points and is used to \n",
    "                                show average or most commonly indicated responses in a data set. \n",
    "                                Measures of central tendency or measures of central location include\n",
    "                                the mean, median, and mode. Mean refers to the average or \n",
    "                                most common value in a data set, while the median is the middle score for the\n",
    "                                data set in increasing order, and mode is the most frequent value. \n",
    "\n",
    "            \n",
    "                \n",
    "                    3. Variability or Dispersion\n",
    "                            A measure of variability identifies the range, variance, and standard deviation\n",
    "                                of scores in a sample. This measure denotes the range and width of distribution values \n",
    "                                in a data set and determines how to spread apart the data points are from the center. \n",
    "                                The range shows the degree of dispersion or the difference between the \n",
    "                                 highest and lowest values within the data set.\n",
    "                                The variance refers to the degree of the spread and is measured \n",
    "                                 as an average of the squared deviations. \n",
    "                                The standard deviation determines the difference between the observed score\n",
    "                                 in the data set and the mean value.\n",
    "                                    \n",
    "\n",
    "            Types of Inferential Statistics\n",
    "                Inferential Statistics helps to draw conclusions and make predictions based on a data set. \n",
    "                    It is done using several techniques, methods, and types of calculations.\n",
    "                    Some of the most important types of inferential statistics calculations are:\n",
    "\n",
    "                1. Regression Analysis\n",
    "                        Regression models show the relationship between a set of independent variables \n",
    "                        and a dependent variable. This statistical method lets you predict the value of the\n",
    "                        dependent variable based on different values of the independent variables.\n",
    "                        Hypothesis tests are incorporated to determine whether the relationships observed\n",
    "                        in sample data actually exist in the data set. \n",
    "\n",
    "                2. Hypothesis Tests\n",
    "                        Hypothesis testing is used to compare entire populations or assess \n",
    "                        relationships between variables using samples.\n",
    "                        Hypotheses or predictions are tested using statistical tests so as to draw valid inferences.   \n",
    "\n",
    "                3. Confidence Intervals\n",
    "                        \n",
    "                    The main goal of inferential statistics is to estimate population parameters, \n",
    "                     which are mostly unknown or unknowable values. A confidence interval observes \n",
    "                        the variability in a statistic to draw an interval estimate for a parameter.\n",
    "                        Confidence intervals take uncertainty and sampling error into\n",
    "                        account to create a range of values within which the actual population \n",
    "                        value is estimated to fall.\n",
    "                        \n",
    "    Example of Descriptive Statistics\n",
    "          It is used to enumerate and explain a dataset's key characteristics.\n",
    "            Measures like mean, median, mode, range, variance, and standard deviation are some examples.\n",
    "            For instance, you could use descriptive statistics\n",
    "            to determine the average age, the age distribution, and the age standard deviation of\n",
    "            a group of individuals if you wanted to summarize their ages.\n",
    "\n",
    "    Example of Inferential Statistics \n",
    "            Using a sample of data, inferential statistics is used to draw conclusions or generalizations\n",
    "            about a broader population. Examples include regression analysis, confidence ranges,\n",
    "            and hypothesis testing. For instance, you could use inferential statistics to assess whether\n",
    "            there is a significant difference in the outcomes of patients who receive the drug compared\n",
    "            to those who receive a placebo if you want to know if a new drug is effective."
   ]
  },
  {
   "cell_type": "code",
   "execution_count": null,
   "id": "452b6be4-8115-4c6c-8acd-f654d85a433c",
   "metadata": {},
   "outputs": [],
   "source": [
    "Q10. What are some common measures of central tendency and variability used in statistics?"
   ]
  },
  {
   "cell_type": "code",
   "execution_count": null,
   "id": "8f04a28d-42fd-4dc1-a39e-e22b69d511d5",
   "metadata": {},
   "outputs": [],
   "source": [
    "A10.   Central Tendency  -->\n",
    "\n",
    "                            Central tendency includes the descriptive summary of a dataset using a single value\n",
    "                                that reflects the center of the data distribution.\n",
    "                                It locates the distribution by various points and is used to \n",
    "                                show average or most commonly indicated responses in a data set. \n",
    "                                Measures of central tendency or measures of central location include\n",
    "                                the mean, median, and mode. Mean refers to the average or \n",
    "                                most common value in a data set, while the median is the middle score for the\n",
    "                                data set in increasing order, and mode is the most frequent value. \n",
    "                                \n",
    "            \n",
    "                \n",
    "        Variability or Dispersion -->\n",
    "        \n",
    "                            A measure of variability identifies the range, variance, and standard deviation\n",
    "                                of scores in a sample. This measure denotes the range and width of distribution values \n",
    "                                in a data set and determines how to spread apart the data points are from the center. \n",
    "                                The range shows the degree of dispersion or the difference between the \n",
    "                                 highest and lowest values within the data set.\n",
    "                                The variance refers to the degree of the spread and is measured \n",
    "                                 as an average of the squared deviations. \n",
    "                                The standard deviation determines the difference between the observed score\n",
    "                                 in the data set and the mean value."
   ]
  }
 ],
 "metadata": {
  "kernelspec": {
   "display_name": "Python 3 (ipykernel)",
   "language": "python",
   "name": "python3"
  },
  "language_info": {
   "codemirror_mode": {
    "name": "ipython",
    "version": 3
   },
   "file_extension": ".py",
   "mimetype": "text/x-python",
   "name": "python",
   "nbconvert_exporter": "python",
   "pygments_lexer": "ipython3",
   "version": "3.10.8"
  }
 },
 "nbformat": 4,
 "nbformat_minor": 5
}
