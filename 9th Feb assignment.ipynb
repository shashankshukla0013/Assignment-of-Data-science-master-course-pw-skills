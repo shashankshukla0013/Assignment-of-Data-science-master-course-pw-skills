{
 "cells": [
  {
   "cell_type": "code",
   "execution_count": null,
   "id": "db4c448a-e59d-413e-997f-1d83cd00ad01",
   "metadata": {},
   "outputs": [],
   "source": [
    "Q1. Create a vehicle class with an init method having instance variables as name_of_vehicle, max_speed\n",
    "and average_of_vehicle."
   ]
  },
  {
   "cell_type": "code",
   "execution_count": 16,
   "id": "33a17edd-f8a3-421c-9756-4e1430c5b25f",
   "metadata": {},
   "outputs": [
    {
     "name": "stdout",
     "output_type": "stream",
     "text": [
      "Name : BMW \n",
      "Max speed : 300km/h \n",
      "Average of vehicle : 200\n"
     ]
    }
   ],
   "source": [
    "class vehicle:\n",
    "    def __init__(self):\n",
    "        self.name_of_vehicle = \"BMW\"\n",
    "        self.max_speed = \"300km/h\"\n",
    "        self.average_of_vehicle = 200\n",
    "obj = vehicle()\n",
    "print(\"Name :\",obj.name_of_vehicle,\"\\nMax speed :\",obj.max_speed,\"\\nAverage of vehicle :\",obj.average_of_vehicle)"
   ]
  },
  {
   "cell_type": "code",
   "execution_count": null,
   "id": "b5be35df-3bfa-4734-92f1-bf68f589e763",
   "metadata": {},
   "outputs": [],
   "source": [
    "Q2. Create a child class car from the vehicle class created in Que 1, which will inherit the vehicle class.\n",
    "Create a method named seating_capacity which takes capacity as an argument and returns the name of\n",
    "the vehicle and its seating capacity."
   ]
  },
  {
   "cell_type": "code",
   "execution_count": 38,
   "id": "8a191770-fb35-4ff3-8503-176e96f64d7d",
   "metadata": {},
   "outputs": [
    {
     "name": "stdout",
     "output_type": "stream",
     "text": [
      "Car seating capacity =  5 \n",
      "Name of vehicle =  BMW\n"
     ]
    }
   ],
   "source": [
    "class car(vehicle):\n",
    "    def seating_capacity(self,capacity):\n",
    "        self.capacity = capacity\n",
    "        return capacity\n",
    "        \n",
    "obj1 = car()\n",
    "print(\"Car seating capacity = \",obj1.seating_capacity(5),\"\\nName of vehicle = \",obj1.name_of_vehicle)"
   ]
  },
  {
   "cell_type": "code",
   "execution_count": null,
   "id": "2a35610e-2b74-4aef-9b4b-9c8f49bcb78a",
   "metadata": {},
   "outputs": [],
   "source": [
    "Q3. What is multiple inheritance? Write a python code to demonstrate multiple inheritance."
   ]
  },
  {
   "cell_type": "code",
   "execution_count": 40,
   "id": "1a1b40d9-1458-4f79-bda0-b19e26712093",
   "metadata": {},
   "outputs": [
    {
     "name": "stdout",
     "output_type": "stream",
     "text": [
      "In Class1\n",
      "In Class2\n",
      "In Class3\n"
     ]
    }
   ],
   "source": [
    "  When a class is derived from more than one base class it is called multiple Inheritance. \n",
    "    The derived class inherits all the features of the base case.\n",
    "\n",
    "    Syntax:\n",
    "\n",
    "    Class Base1:\n",
    "           Body of the class\n",
    "\n",
    "    Class Base2:\n",
    "         Body of the class\n",
    "\n",
    "    Class Derived(Base1, Base2):\n",
    "         Body of the class\n",
    "            \n",
    "            Python Code:\n",
    "                \n",
    "                                class Class1:\n",
    "                                    def m1(self):\n",
    "                                        print(\"In Class1\")\n",
    "\n",
    "                                class Class2:\n",
    "                                    def m2(self):\n",
    "                                        print(\"In Class2\")\n",
    "\n",
    "                                class Class3(Class1,Class2):\n",
    "                                    def m3(self):\n",
    "                                        print(\"In Class3\")\n",
    "\n",
    "                                obj = Class3()\n",
    "                                obj.m1()\n",
    "                                obj.m2()\n",
    "                                obj.m3()\n"
   ]
  },
  {
   "cell_type": "code",
   "execution_count": null,
   "id": "d3bab3c3-4e01-4cd1-ad72-b112a7dd8afb",
   "metadata": {},
   "outputs": [],
   "source": [
    "Q4. What are getter and setter in python? Create a class and create a getter and a setter method in this\n",
    "class."
   ]
  },
  {
   "cell_type": "code",
   "execution_count": 52,
   "id": "3c671a03-80f6-421f-ab59-4ae184d7dd51",
   "metadata": {},
   "outputs": [
    {
     "name": "stdout",
     "output_type": "stream",
     "text": [
      "0\n",
      "21\n"
     ]
    }
   ],
   "source": [
    "In Python, \n",
    "    getters and setters are not the same as those in other object-oriented programming languages.\n",
    "    Basically, the main purpose of using getters and setters in object-oriented programs\n",
    "    is to ensure data encapsulation. \n",
    "    Private variables in python are not actually hidden fields like in other \n",
    "    object oriented languages. \n",
    "    Getters and Setters in python are often used when:\n",
    "\n",
    "        We use getters & setters to add validation logic around getting and setting a value.\n",
    "        To avoid direct access of a class field i.e. private variables\n",
    "        cannot be accessed directly or modified by external user.\n",
    "        \n",
    "        \n",
    "class Geek:\n",
    "\tdef __init__(self, age = 0):\n",
    "\t\tself._age = age\n",
    "\t\n",
    "\tdef get_age(self):\n",
    "\t\treturn self._age\n",
    "\t\n",
    "\tdef set_age(self, x):\n",
    "\t\tself._age = x\n",
    "\n",
    "raj = Geek()\n",
    "\n",
    "raj.set_age(21)\n",
    "print(raj.get_age())\n",
    "print(raj._age)\n"
   ]
  },
  {
   "cell_type": "code",
   "execution_count": null,
   "id": "12405fea-d21f-42fc-86c6-5abac3157965",
   "metadata": {},
   "outputs": [],
   "source": [
    "Q5.What is method overriding in python? Write a python code to demonstrate method overriding."
   ]
  },
  {
   "cell_type": "code",
   "execution_count": 50,
   "id": "7013ec8d-12f5-4b9a-a64b-7500fee90fbe",
   "metadata": {},
   "outputs": [
    {
     "name": "stdout",
     "output_type": "stream",
     "text": [
      "Inside Parent\n",
      "Inside Child\n"
     ]
    }
   ],
   "source": [
    "Method overriding is an ability of any object-oriented programming language \n",
    "    that allows a subclass or child class to provide a specific implementation\n",
    "    of a method that is already provided by one of its super-classes or parent classes.\n",
    "    When a method in a subclass has the same name, same parameters or signature\n",
    "    and same return type(or sub-type) as a method in its super-class, \n",
    "    then the method in the subclass is said to override the method in the super-class.\n",
    "\n",
    "    Python code:\n",
    "                class Parent():\n",
    "                    def __init__(self):\n",
    "                        self.value = \"Inside Parent\"\n",
    "                    def show(self):\n",
    "                        print(self.value)\n",
    "                class Child(Parent):\n",
    "                    def __init__(self):\n",
    "                        self.value = \"Inside Child\"\n",
    "                    def show(self):\n",
    "                        print(self.value)\n",
    "                obj1 = Parent()\n",
    "                obj2 = Child()\n",
    "\n",
    "                obj1.show()\n",
    "                obj2.show()\n",
    "\n"
   ]
  }
 ],
 "metadata": {
  "kernelspec": {
   "display_name": "Python 3 (ipykernel)",
   "language": "python",
   "name": "python3"
  },
  "language_info": {
   "codemirror_mode": {
    "name": "ipython",
    "version": 3
   },
   "file_extension": ".py",
   "mimetype": "text/x-python",
   "name": "python",
   "nbconvert_exporter": "python",
   "pygments_lexer": "ipython3",
   "version": "3.10.8"
  }
 },
 "nbformat": 4,
 "nbformat_minor": 5
}
