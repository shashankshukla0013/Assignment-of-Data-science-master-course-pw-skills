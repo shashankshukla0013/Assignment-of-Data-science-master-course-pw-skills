{
 "cells": [
  {
   "cell_type": "code",
   "execution_count": null,
   "id": "90b1f0b4-4f8c-4fb5-916e-47e7152dcd1d",
   "metadata": {},
   "outputs": [],
   "source": [
    "Q1. Explain Class and Object with respect to Object-Oriented Programming. Give a suitable example."
   ]
  },
  {
   "cell_type": "code",
   "execution_count": null,
   "id": "7aeda13b-da5d-4ec5-b5a0-0983e7ff506d",
   "metadata": {},
   "outputs": [],
   "source": [
    "Python Classes\n",
    "\n",
    "    A class is considered as a blueprint of objects.\n",
    "    We can think of the class as a sketch (prototype) of a house. \n",
    "    It contains all the details about the floors, doors, windows, etc.\n",
    "    Based on these descriptions we build the house. House is the object.\n",
    "\n",
    "    Since many houses can be made from the same description, we can create many objects from a class.\n",
    "\n",
    "Python Objects\n",
    "\n",
    "    An object is called an instance of a class.\n",
    "    \n",
    "Example:\n",
    "    #Class\n",
    "class Bike:\n",
    "    name = \"\"\n",
    "    gear = 0\n",
    "    \n",
    "    #Object\n",
    "bike1 = Bike()\n"
   ]
  },
  {
   "cell_type": "code",
   "execution_count": null,
   "id": "7c54132f-74c1-4c9e-b0ae-4f15c1bc425f",
   "metadata": {},
   "outputs": [],
   "source": [
    "Q2. Name the four pillars of OOPs."
   ]
  },
  {
   "cell_type": "code",
   "execution_count": null,
   "id": "f668cbc7-75db-479f-90af-72a947050627",
   "metadata": {},
   "outputs": [],
   "source": [
    "Four pillars of OOPs \n",
    "\n",
    "        Abstraction --> A general idea rather than one that relates to a particular object, person, or situation.\n",
    "        Encapsulation --> To enclose something in or as if in a capsule.\n",
    "        Inheritance -->  To receive a quality, characteristic, etc., from your parents or family.\n",
    "        Polymorphism --> The condition of occurrence in several different forms."
   ]
  },
  {
   "cell_type": "code",
   "execution_count": null,
   "id": "8ca81c78-ed33-48a3-9d75-ee30b40763a5",
   "metadata": {},
   "outputs": [],
   "source": [
    "Q3. Explain why the __init__() function is used. Give a suitable example."
   ]
  },
  {
   "cell_type": "code",
   "execution_count": 5,
   "id": "0950133d-53a8-4585-9011-563e7cb049f4",
   "metadata": {},
   "outputs": [
    {
     "name": "stdout",
     "output_type": "stream",
     "text": [
      "I ran when the object is just created\n"
     ]
    }
   ],
   "source": [
    "        In an object-oriented approach,\n",
    "            the __init__ method is the Python equivalent of the C++ constructor.\n",
    "            Every time an object is created from a class, the __init__function is called.\n",
    "            The __init__ method only allows the class to initialize the object's attributes. \n",
    "            It is only used within classes.\n",
    "            \n",
    "        Example :\n",
    "            \n",
    "class Car:\n",
    "    def __init__(self):\n",
    "        print(\"I ran when the object is just created\")\n",
    " \n",
    " \n",
    "C = Car()"
   ]
  },
  {
   "cell_type": "code",
   "execution_count": null,
   "id": "ffc8da28-4e17-44ac-b596-aea0de41c1b3",
   "metadata": {},
   "outputs": [],
   "source": [
    "Q4. Why self is used in OOPs?"
   ]
  },
  {
   "cell_type": "code",
   "execution_count": null,
   "id": "950d7807-b1f0-4a9d-844a-72fc8e83c3b9",
   "metadata": {},
   "outputs": [],
   "source": [
    "self represents the instance of the class.\n",
    "By using the “self”  we can access the attributes and methods of the class in python.\n",
    "It binds the attributes with the given arguments.\n"
   ]
  },
  {
   "cell_type": "code",
   "execution_count": null,
   "id": "39948928-c5f9-4b90-b97e-dadd670da107",
   "metadata": {},
   "outputs": [],
   "source": [
    "Q5. What is inheritance? Give an example for each type of inheritance."
   ]
  },
  {
   "cell_type": "code",
   "execution_count": null,
   "id": "1fddae70-59b2-41e2-a5a3-b4d3d810b434",
   "metadata": {},
   "outputs": [],
   "source": [
    "Inheritance is defined as the mechanism of inheriting the properties of the base class to the child class. \n",
    "\n",
    "Types of Inheritance in Python\n",
    "\n",
    "    Types of Inheritance depend upon the number of child and parent classes involved. \n",
    "    There are five types of inheritance in Python:\n",
    "        Single Inheritance: \n",
    "            \n",
    "            Single inheritance enables a derived class to inherit properties from a single parent class.\n",
    "               Example:\n",
    "                        class Parent:\n",
    "                            def func1(self):\n",
    "                                print(\"This function is in parent class.\")\n",
    "                        class Child(Parent):\n",
    "                            def func2(self):\n",
    "                                print(\"This function is in child class.\")\n",
    "                        object = Child()\n",
    "                        object.func1()\n",
    "                        object.func2()\n",
    "        Multiple Inheritance: \n",
    "            \n",
    "            When a class can be derived from more than one base class this type of inheritance \n",
    "             is called multiple inheritances.\n",
    "                \n",
    "            Example:\n",
    "\n",
    "                                class Mother:\n",
    "                                    mothername = \"\"\n",
    "                                    def mother(self):\n",
    "                                        print(self.mothername)\n",
    "                                class Father:\n",
    "                                    fathername = \"\"\n",
    "                                    def father(self):\n",
    "                                        print(self.fathername)\n",
    "                                class Son(Mother, Father):\n",
    "                                    def parents(self):\n",
    "                                        print(\"Father :\", self.fathername)\n",
    "                                        print(\"Mother :\", self.mothername)\n",
    "                                s1 = Son()\n",
    "                                s1.fathername = \"RAM\"\n",
    "                                s1.mothername = \"SITA\"\n",
    "                                s1.parents()    \n",
    "        Multilevel Inheritance :\n",
    "            \n",
    "                In multilevel inheritance, features of the base class and the derived class\n",
    "                are further inherited into the new derived class.\n",
    "                \n",
    "                Example:            \n",
    "                                class Grandfather:\n",
    "\n",
    "                                    def __init__(self, grandfathername):\n",
    "                                        self.grandfathername = grandfathername\n",
    "                                        \n",
    "                                class Father(Grandfather):\n",
    "                                    def __init__(self, fathername, grandfathername):\n",
    "                                        self.fathername = fathername\n",
    "                                        Grandfather.__init__(self, grandfathername)\n",
    "                                class Son(Father):\n",
    "                                    def __init__(self, sonname, fathername, grandfathername):\n",
    "                                        self.sonname = sonname\n",
    "                                        Father.__init__(self, fathername, grandfathername)\n",
    "\n",
    "                                    def print_name(self):\n",
    "                                        print('Grandfather name :', self.grandfathername)\n",
    "                                        print(\"Father name :\", self.fathername)\n",
    "                                        print(\"Son name :\", self.sonname)\n",
    "\n",
    "                                s1 = Son('Prince', 'Rampal', 'Lal mani')\n",
    "                                print(s1.grandfathername)\n",
    "                                s1.print_name()\n",
    "                                \n",
    "            Hierarchical Inheritance: \n",
    "                \n",
    "                    When more than one derived class are created from a single base\n",
    "                    this type of inheritance is called hierarchical inheritance. \n",
    "                    \n",
    "                Example:\n",
    "                                        class Parent:\n",
    "                                            def func1(self):\n",
    "                                                print(\"This function is in parent class.\")\n",
    "\n",
    "                                        class Child1(Parent):\n",
    "                                            def func2(self):\n",
    "                                                print(\"This function is in child 1.\")\n",
    "\n",
    "                                        class Child2(Parent):\n",
    "                                            def func3(self):\n",
    "                                                print(\"This function is in child 2.\")\n",
    "                                        object1 = Child1()\n",
    "                                        object2 = Child2()\n",
    "                                        object1.func1()\n",
    "                                        object1.func2()\n",
    "                                        object2.func1()\n",
    "                                        object2.func3()\n",
    "                                        \n",
    "                Hybrid Inheritance: \n",
    "                    \n",
    "                        Inheritance consisting of multiple types of inheritance is called hybrid inheritance.                                                     \n",
    "                                        class School:\n",
    "                                            def func1(self):\n",
    "                                                print(\"This function is in school.\")\n",
    "\n",
    "\n",
    "                                        class Student1(School):\n",
    "                                            def func2(self):\n",
    "                                                print(\"This function is in student 1. \")\n",
    "\n",
    "\n",
    "                                        class Student2(School):\n",
    "                                            def func3(self):\n",
    "                                                print(\"This function is in student 2.\")\n",
    "\n",
    "\n",
    "                                        class Student3(Student1, School):\n",
    "                                            def func4(self):\n",
    "                                                print(\"This function is in student 3.\")\n",
    "\n",
    "                                        object = Student3()\n",
    "                                        object.func1()\n",
    "                                        object.func2()\n",
    "\n",
    "\n"
   ]
  }
 ],
 "metadata": {
  "kernelspec": {
   "display_name": "Python 3 (ipykernel)",
   "language": "python",
   "name": "python3"
  },
  "language_info": {
   "codemirror_mode": {
    "name": "ipython",
    "version": 3
   },
   "file_extension": ".py",
   "mimetype": "text/x-python",
   "name": "python",
   "nbconvert_exporter": "python",
   "pygments_lexer": "ipython3",
   "version": "3.10.8"
  }
 },
 "nbformat": 4,
 "nbformat_minor": 5
}
