{
 "cells": [
  {
   "cell_type": "code",
   "execution_count": null,
   "id": "1b475c27-7212-4d1c-b857-1c7a7b0778d2",
   "metadata": {},
   "outputs": [],
   "source": [
    "Q1. Explain with an example each when to use a for loop and a while loop."
   ]
  },
  {
   "cell_type": "code",
   "execution_count": null,
   "id": "9f1c0ac5-b2c1-448f-91c9-f570d713f142",
   "metadata": {},
   "outputs": [],
   "source": [
    "    The for loop is used when we already know the number of iterations, \n",
    "    which means when we know how many times a statement has to be executed. \n",
    "    That is why we have to specify the ending point in the for loop initialization.\n",
    "       example:\n",
    "                for i in range(0,4):\n",
    "                print(\"Hello\")\n",
    "\n",
    "    When we need to end the loop on a condition other than the number of times, \n",
    "    we use a while loop. In this case, it is not necessary to know the condition beforehand.\n",
    "    That is why we can give a boolean expression in the initialization of the loop.\n",
    "        example:\n",
    "                i = 0\n",
    "                 while(i<4):\n",
    "                    print(\"Hello\")\n",
    "                    i = i+1"
   ]
  },
  {
   "cell_type": "code",
   "execution_count": null,
   "id": "e33a56d3-39cb-4abd-8280-bd5048574067",
   "metadata": {},
   "outputs": [],
   "source": [
    "Q2. Write a python program to print the sum and product of the first 10 natural numbers using for\n",
    "and while loop."
   ]
  },
  {
   "cell_type": "code",
   "execution_count": 1,
   "id": "806556a6-34b7-47a4-9ca8-f57d37c32827",
   "metadata": {},
   "outputs": [
    {
     "name": "stdout",
     "output_type": "stream",
     "text": [
      "Printing sum and product of natural number through for loop \n",
      "Sum =  55 \n",
      "Product =  3628800\n",
      "Printing sum and product of natural number through while loop \n",
      "Sum =  55 \n",
      "Product =  3628800\n"
     ]
    }
   ],
   "source": [
    "su = 0\n",
    "product = 1\n",
    "for i in range(1,11):\n",
    "    su = su + i\n",
    "    product = product * i\n",
    "print(\"Printing sum and product of natural number through for loop \\nSum = \",su,\"\\nProduct = \",product)\n",
    "\n",
    "su = 0\n",
    "product = 1\n",
    "j = 1\n",
    "while j < 11:\n",
    "    su = su + j\n",
    "    product = product * j\n",
    "    j = j+1\n",
    "print(\"Printing sum and product of natural number through while loop \\nSum = \",su,\"\\nProduct = \",product)"
   ]
  },
  {
   "cell_type": "code",
   "execution_count": null,
   "id": "45b5f6fe-1a27-4f13-8dc9-933964fe9e52",
   "metadata": {},
   "outputs": [],
   "source": [
    "Q3. Create a python program to compute the electricity bill for a household.\n",
    "\n",
    "\n",
    "The per-unit charges in rupees are as follows: For the first 100 units, the user will be charged Rs. 4.5 per\n",
    "unit, for the next 100 units, the user will be charged Rs. 6 per unit, and for the next 100 units, the user will\n",
    "be charged Rs. 10 per unit, After 300 units and above the user will be charged Rs. 20 per unit.\n",
    "You are required to take the units of electricity consumed in a month from the user as input.\n",
    "Your program must pass this test case: when the unit of electricity consumed by the user in a month is\n",
    "310, the total electricity bill should be 2250."
   ]
  },
  {
   "cell_type": "code",
   "execution_count": 3,
   "id": "c45f3d5f-3028-4051-8497-c1898e648434",
   "metadata": {},
   "outputs": [
    {
     "name": "stdin",
     "output_type": "stream",
     "text": [
      "Enter the unit of electricity consumed in a month =  310\n"
     ]
    },
    {
     "name": "stdout",
     "output_type": "stream",
     "text": [
      "The electricity bill = Rs 2250.0\n"
     ]
    }
   ],
   "source": [
    "unit = int(input(\"Enter the unit of electricity consumed in a month = \"))\n",
    "bill = 0\n",
    "if unit <= 100:\n",
    "    bill = unit * 4.5\n",
    "elif unit>100 and unit <= 200:\n",
    "    unit = unit - 100\n",
    "    bill = unit * 6 + (100*4.5)\n",
    "elif unit>200 and unit <=300:\n",
    "    unit = unit - 200\n",
    "    bill =  unit * 10 + (100*4.5) + (100*6)\n",
    "else :\n",
    "    unit = unit - 300\n",
    "    bill = unit * 20 + (100*4.5) + (100*6) + (100*10)\n",
    "print(\"The electricity bill = Rs\",bill)"
   ]
  },
  {
   "cell_type": "code",
   "execution_count": null,
   "id": "f1627c40-1f52-4930-8dd2-eeda5fb76a5d",
   "metadata": {},
   "outputs": [],
   "source": [
    "Q4. Create a list of numbers from 1 to 100. Use for loop and while loop to calculate the cube of each\n",
    "number and if the cube of that number is divisible by 4 or 5 then append that number in a list and print\n",
    "that list."
   ]
  },
  {
   "cell_type": "code",
   "execution_count": 3,
   "id": "b231cc21-3aac-460e-be69-99e4d7c43de4",
   "metadata": {},
   "outputs": [
    {
     "name": "stdout",
     "output_type": "stream",
     "text": [
      "\n",
      "Elements from for loop = \n",
      " [8, 64, 125, 216, 512, 1000, 1728, 2744, 3375, 4096, 5832, 8000, 10648, 13824, 15625, 17576, 21952, 27000, 32768, 39304, 42875, 46656, 54872, 64000, 74088, 85184, 91125, 97336, 110592, 125000, 140608, 157464, 166375, 175616, 195112, 216000, 238328, 262144, 274625, 287496, 314432, 343000, 373248, 405224, 421875, 438976, 474552, 512000, 551368, 592704, 614125, 636056, 681472, 729000, 778688, 830584, 857375, 884736, 941192, 1000000]\n",
      "\n",
      "Elements from for loop = \n",
      " [8, 64, 125, 216, 512, 1000, 1728, 2744, 3375, 4096, 5832, 8000, 10648, 13824, 15625, 17576, 21952, 27000, 32768, 39304, 42875, 46656, 54872, 64000, 74088, 85184, 91125, 97336, 110592, 125000, 140608, 157464, 166375, 175616, 195112, 216000, 238328, 262144, 274625, 287496, 314432, 343000, 373248, 405224, 421875, 438976, 474552, 512000, 551368, 592704, 614125, 636056, 681472, 729000, 778688, 830584, 857375, 884736, 941192, 1000000]\n"
     ]
    }
   ],
   "source": [
    "li = list(range(1,101))\n",
    "li2 = []\n",
    "li3 = []\n",
    "for i in li:\n",
    "    m = i**3\n",
    "    if m % 4 == 0 or m % 5 == 0:\n",
    "        li2.append(m)\n",
    "print(\"\\nElements from for loop = \\n\",li2)\n",
    "\n",
    "j = 1\n",
    "k = 1\n",
    "while(k<101):\n",
    "    j = j**3    \n",
    "    if j % 4 == 0 or j % 5 == 0:\n",
    "        li3.append(j)\n",
    "    k = k + 1\n",
    "    j = k \n",
    "print(\"\\nElements from for loop = \\n\",li3)"
   ]
  },
  {
   "cell_type": "code",
   "execution_count": null,
   "id": "e62b9bc2-df8a-45d9-9989-e491ca0bf7fa",
   "metadata": {},
   "outputs": [],
   "source": [
    "Q5. Write a program to  count vowels in the below-given string.\n",
    "string = \"I want to become a data scientist\""
   ]
  },
  {
   "cell_type": "code",
   "execution_count": 5,
   "id": "0f2e0fdb-2578-4ed5-a6e7-4baa6de1326f",
   "metadata": {},
   "outputs": [
    {
     "name": "stdout",
     "output_type": "stream",
     "text": [
      "Number of vowels in the list =  12\n"
     ]
    }
   ],
   "source": [
    "string = \"I want to become a data scientist\"\n",
    "l = ['a','e','i','o','u','A','E','I','O','U']\n",
    "count = 0\n",
    "for i in string:\n",
    "    if i in l:\n",
    "        count = count + 1\n",
    "print(\"Number of vowels in the list = \",count)"
   ]
  },
  {
   "cell_type": "code",
   "execution_count": null,
   "id": "e326b24a-859f-4041-b59a-402328cf079a",
   "metadata": {},
   "outputs": [],
   "source": []
  }
 ],
 "metadata": {
  "kernelspec": {
   "display_name": "Python 3 (ipykernel)",
   "language": "python",
   "name": "python3"
  },
  "language_info": {
   "codemirror_mode": {
    "name": "ipython",
    "version": 3
   },
   "file_extension": ".py",
   "mimetype": "text/x-python",
   "name": "python",
   "nbconvert_exporter": "python",
   "pygments_lexer": "ipython3",
   "version": "3.10.8"
  }
 },
 "nbformat": 4,
 "nbformat_minor": 5
}
