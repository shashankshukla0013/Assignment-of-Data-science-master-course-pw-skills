{
 "cells": [
  {
   "cell_type": "raw",
   "id": "c93104c1-b78c-48be-a456-a52752f7b2d2",
   "metadata": {},
   "source": [
    "Q1. Who developed Python Programming Language ?\n",
    "A1. Guido Van Rossum developed Python Programming Language in 1989 ."
   ]
  },
  {
   "cell_type": "raw",
   "id": "46bc8312-02b1-46b0-bc24-a7ef61c6bf25",
   "metadata": {},
   "source": [
    "Q2. Which type of Programming does Python support ?\n",
    "A2. Python is an interpreted programming language, supporting object-oriented,\n",
    "      structured, and functional programming. "
   ]
  },
  {
   "cell_type": "raw",
   "id": "7681d7e1-65a6-49f2-8246-821e742c0663",
   "metadata": {},
   "source": [
    "Q3. Is Python case sensitive when dealing with identifiers ?\n",
    "A3.  Yes , Python is case sensitive when dealing with identifier. \n",
    "      Example - For python, variables arr , Arr , ARr , ARR , aRR , aaR all are different . "
   ]
  },
  {
   "cell_type": "raw",
   "id": "e9a391c2-8fca-431d-8c8b-963b49f197d0",
   "metadata": {},
   "source": [
    "Q4. What is the correct extension of Python file ?\n",
    "A4. The correct extension of Python file is .py \n",
    "     but sometimes .pyi,.pyc,.pyd,.pyo,.pyw,.pyz are also used ."
   ]
  },
  {
   "cell_type": "raw",
   "id": "dd0b9f32-3c59-4def-a0d7-2cbcc138e73d",
   "metadata": {},
   "source": [
    "Q5. Is Python code compiled or interpreted ?\n",
    "A5. Python is an interpreted language, \n",
    "    which means the source code of a Python program is converted into bytecode \n",
    "    that is then executed by the Python virtual machine."
   ]
  },
  {
   "cell_type": "raw",
   "id": "66966950-29b6-419c-9971-d0e5452ed054",
   "metadata": {},
   "source": [
    "Q6. Name a few blocks of code used to define in Python programming ?\n",
    "A6. A Python program is constructed from code blocks ,\n",
    "    a block is a piece of Python program text that is executed as a unit. \n",
    "    The following are blocks: a module, a function body, and a class definition"
   ]
  },
  {
   "cell_type": "raw",
   "id": "9d41a5d7-27c3-4eab-9905-cd3114f29849",
   "metadata": {},
   "source": [
    "Q7. State a character used to give single line comment in Python ?\n",
    "A7. ' # ' (hash character) is a character used to give single line comment in Python.\n",
    "      The hash character should be placed before the line to be commented.\n",
    "      Example - #This is comment"
   ]
  },
  {
   "cell_type": "raw",
   "id": "6d3403cf-b052-45db-b670-64939b3e6d4f",
   "metadata": {},
   "source": [
    "Q8. Mention functions which can help us to find the version of python that we are currently working on?\n",
    "A8.  The function sys.version can help us to find the version of python that we are currently working on."
   ]
  },
  {
   "cell_type": "raw",
   "id": "1f3d0766-7d97-459b-91d5-56e8b8f4b0e2",
   "metadata": {},
   "source": [
    "Q9. Python supports the creation of anonymous functions at runtime , using a construct called ________________\n",
    "A9. Python supports the creation of anonymous functions at runtime , using a construct called lambda(λ)"
   ]
  },
  {
   "cell_type": "raw",
   "id": "9b111fb1-260e-41b3-8851-d4b5004a2ea4",
   "metadata": {},
   "source": [
    "Q10. What does pip stand for python ?\n",
    "A10.PIP is a recursive acronym for “Preferred Installer Program” or PIP Installs Packages.\n",
    "     It is a command-line utility that installs, reinstalls, or uninstalls PyPI packages \n",
    "     with one simple command: pip."
   ]
  },
  {
   "cell_type": "raw",
   "id": "7ebe7ee2-dbed-4ec5-987e-e6c06a0fe836",
   "metadata": {},
   "source": [
    "Q11. Mentions a few built-in functions in python ?\n",
    "A11. print() , type() , input() , len() are few built-in functions in python. "
   ]
  },
  {
   "cell_type": "raw",
   "id": "99ca775b-3d36-4c73-a23a-73bad49bfc6e",
   "metadata": {},
   "source": [
    "Q12. What is the maximum possible length of an identifier in Python ?\n",
    "A12. 79 is the maximum possible length of an identifier in Python ."
   ]
  },
  {
   "cell_type": "raw",
   "id": "af487fa6-a8f5-4d08-ae6e-7cdeafacdbe3",
   "metadata": {},
   "source": [
    "Q13. What are the benefits of using python ?\n",
    "A13.  Python programming language is a general-purpose, interpreted, and high-level language that mainly offers code   \n",
    "      readability. It is largely used by professional programmers and developers across a variety of fields, including Web\n",
    "      Development , Machine Learning , Data science , Scientific and mathematical computing , Finance and trading , \n",
    "      System  automation and administration , Computer graphics , Basic game development , \n",
    "      Security and penetration testing , General and application-specific scripting , Mapping and geography (GIS software) ."
   ]
  },
  {
   "cell_type": "raw",
   "id": "d5d80420-69ec-4a23-8f18-d81e46597a17",
   "metadata": {},
   "source": [
    "Q14. How is memory managed in Python ?\n",
    "A14. Memory management in Python involves a private heap containing all Python objects and data structures. \n",
    "     The management of this private heap is ensured internally by the Python memory manager."
   ]
  },
  {
   "cell_type": "raw",
   "id": "d622e5ea-68ee-49a9-be2a-14347ea36a9f",
   "metadata": {},
   "source": [
    "Q15. How to install Python on Windows and set path variables ?\n",
    "A15.  To install Python \n",
    "      1. Go to the official Python download page for Windows.\n",
    "      2. Find a stable Python 3 release. This tutorial was tested with Python version 3.10.10.\n",
    "      3. Click the appropriate link for your system to download the executable file: Windows installer (64-bit) or Windows \n",
    "          installer (32-bit) .\n",
    " \n",
    "    The complete path of python.exe can be added by:\n",
    "      1. Right-clicking This PC and going to Properties.\n",
    "      2. Clicking on the Advanced system settings in the menu on the left.\n",
    "      3. Clicking on the Environment Variables button on the bottom right.\n",
    "      4. In the System variables section, selecting the Path variable and clicking on Edit.\n",
    "      The next screen will show all the directories that are currently a part of the PATH variable. \n",
    "         \n",
    "     Clicking on New and entering Python’s install directory. \n",
    "     \n",
    "     And also download a code editor like VS code ,Pycharm , Jupiter etc. to work on codes smoothly and effectively.\n",
    "     \n"
   ]
  },
  {
   "cell_type": "raw",
   "id": "f43f0ccd-9220-43ef-b054-bd8075a47483",
   "metadata": {},
   "source": [
    "Q16. Is Indentation required in python ?\n",
    "A16. Indentation refers to the spaces at the beginning of a code line. \n",
    "     Where in other programming languages the indentation in code is for readability only, \n",
    "     the indentation in Python is very important. \n",
    "     Python uses indentation to indicate a block of code."
   ]
  },
  {
   "cell_type": "code",
   "execution_count": null,
   "id": "56a04741-7e89-40c9-99f9-33e55cdb8116",
   "metadata": {},
   "outputs": [],
   "source": []
  }
 ],
 "metadata": {
  "kernelspec": {
   "display_name": "Python 3 (ipykernel)",
   "language": "python",
   "name": "python3"
  },
  "language_info": {
   "codemirror_mode": {
    "name": "ipython",
    "version": 3
   },
   "file_extension": ".py",
   "mimetype": "text/x-python",
   "name": "python",
   "nbconvert_exporter": "python",
   "pygments_lexer": "ipython3",
   "version": "3.10.8"
  }
 },
 "nbformat": 4,
 "nbformat_minor": 5
}
