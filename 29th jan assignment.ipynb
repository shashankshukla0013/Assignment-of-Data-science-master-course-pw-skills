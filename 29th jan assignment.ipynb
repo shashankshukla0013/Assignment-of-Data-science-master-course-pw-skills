{
 "cells": [
  {
   "cell_type": "code",
   "execution_count": null,
   "id": "68ffb2a8-107a-4d68-a089-3b7dafef23a0",
   "metadata": {},
   "outputs": [],
   "source": [
    "Q1. Who developed Python Programming Language ?\n",
    "A1. Guido Van Rossum developed Python Programming Language in 1989 ."
   ]
  },
  {
   "cell_type": "code",
   "execution_count": null,
   "id": "11c84513-0886-4b0e-9e2b-a4f2bfd39270",
   "metadata": {},
   "outputs": [],
   "source": [
    "Q2. Which type of Programming does Python support ?\n",
    "A2. Python is an interpreted programming language, supporting object-oriented,\n",
    "      structured, and functional programming. "
   ]
  },
  {
   "cell_type": "code",
   "execution_count": null,
   "id": "8f87460d-5141-4d1a-9409-8dcfb6dca30b",
   "metadata": {},
   "outputs": [],
   "source": [
    "Q3. Is Python case sensitive when dealing with identifiers ?\n",
    "A3.  Yes , Python is case sensitive when dealing with identifier. \n",
    "      Example - For python, variables arr , Arr , ARr , ARR , aRR , aaR all are different . "
   ]
  },
  {
   "cell_type": "code",
   "execution_count": null,
   "id": "c922bba0-b28a-493f-b107-51fb501db305",
   "metadata": {},
   "outputs": [],
   "source": [
    "Q4. What is the correct extension of Python file ?\n",
    "A4. The correct extension of Python file is .py \n",
    "     but sometimes .pyi,.pyc,.pyd,.pyo,.pyw,.pyz are also used ."
   ]
  },
  {
   "cell_type": "code",
   "execution_count": null,
   "id": "97371804-8ab0-4999-9b15-a1867f3c9587",
   "metadata": {},
   "outputs": [],
   "source": [
    "Q5. Is Python code compiled or interpreted ?\n",
    "A5. Python is an interpreted language, \n",
    "    which means the source code of a Python program is converted into bytecode \n",
    "    that is then executed by the Python virtual machine."
   ]
  },
  {
   "cell_type": "code",
   "execution_count": null,
   "id": "7f536e91-41df-4cec-bee1-acc68df98665",
   "metadata": {},
   "outputs": [],
   "source": [
    "Q6. Name a few blocks of code used to define in Python programming ?\n",
    "A6. A Python program is constructed from code blocks ,\n",
    "    a block is a piece of Python program text that is executed as a unit. \n",
    "    The following are blocks: a module, a function body, and a class definition"
   ]
  },
  {
   "cell_type": "code",
   "execution_count": null,
   "id": "c1020e28-6a68-43ec-a957-dd4a81ca345f",
   "metadata": {},
   "outputs": [],
   "source": [
    "Q7. State a character used to give single line comment in Python ?\n",
    "A7. ' # ' (hash character) is a character used to give single line comment in Python.\n",
    "      The hash character should be placed before the line to be commented.\n",
    "      Example - #This is comment"
   ]
  },
  {
   "cell_type": "code",
   "execution_count": null,
   "id": "2ab58f16-8827-4e25-b7b5-fd98c3b0209c",
   "metadata": {},
   "outputs": [],
   "source": [
    "Q8. Mention functions which can help us to find the version of python that we are currently working on?\n",
    "A8.  The function sys.version can help us to find the version of python that we are currently working on."
   ]
  },
  {
   "cell_type": "code",
   "execution_count": null,
   "id": "c40df97f-9145-4c97-942a-7f7a9cd30abc",
   "metadata": {},
   "outputs": [],
   "source": [
    "Q9. Python supports the creation of anonymous functions at runtime , using a construct called ________________\n",
    "A9. Python supports the creation of anonymous functions at runtime , using a construct called lambda(λ)"
   ]
  },
  {
   "cell_type": "code",
   "execution_count": null,
   "id": "ddd7e482-f5f4-4f04-a92c-1e5fa3bd989f",
   "metadata": {},
   "outputs": [],
   "source": [
    "Q10. What does pip stand for python ?\n",
    "A10.PIP is a recursive acronym for “Preferred Installer Program” or PIP Installs Packages.\n",
    "     It is a command-line utility that installs, reinstalls, or uninstalls PyPI packages \n",
    "     with one simple command: pip."
   ]
  },
  {
   "cell_type": "code",
   "execution_count": null,
   "id": "6f827ef9-5e27-464c-b187-09ef9cd82cc2",
   "metadata": {},
   "outputs": [],
   "source": [
    "Q11. Mentions a few built-in functions in python ?\n",
    "A11. print() , type() , input() , len() are few built-in functions in python. "
   ]
  },
  {
   "cell_type": "code",
   "execution_count": null,
   "id": "bb028cef-7882-4930-a530-97bda4232425",
   "metadata": {},
   "outputs": [],
   "source": [
    "Q12. What is the maximum possible length of an identifier in Python ?\n",
    "A12. 79 is the maximum possible length of an identifier in Python ."
   ]
  },
  {
   "cell_type": "code",
   "execution_count": null,
   "id": "7174e427-9103-4f95-a9d7-5e690f17c233",
   "metadata": {},
   "outputs": [],
   "source": [
    "Q13. What are the benefits of using python ?\n",
    "A13.  Python programming language is a general-purpose, interpreted, and high-level language that mainly offers code   \n",
    "      readability. It is largely used by professional programmers and developers across a variety of fields, including Web\n",
    "      Development , Machine Learning , Data science , Scientific and mathematical computing , Finance and trading , \n",
    "      System  automation and administration , Computer graphics , Basic game development , \n",
    "      Security and penetration testing , General and application-specific scripting , Mapping and geography (GIS software) ."
   ]
  },
  {
   "cell_type": "code",
   "execution_count": null,
   "id": "01d22abb-9191-4ba8-a87e-b4e553a83989",
   "metadata": {},
   "outputs": [],
   "source": [
    "Q14. How is memory managed in Python ?\n",
    "A14. Memory management in Python involves a private heap containing all Python objects and data structures. \n",
    "     The management of this private heap is ensured internally by the Python memory manager."
   ]
  },
  {
   "cell_type": "code",
   "execution_count": null,
   "id": "bcc04aec-3295-4de9-8751-a39b572c0bf0",
   "metadata": {},
   "outputs": [],
   "source": [
    "Q15. How to install Python on Windows and set path variables ?\n",
    "A15.  To install Python \n",
    "      1. Go to the official Python download page for Windows.\n",
    "      2. Find a stable Python 3 release. This tutorial was tested with Python version 3.10.10.\n",
    "      3. Click the appropriate link for your system to download the executable file: Windows installer (64-bit) or Windows \n",
    "          installer (32-bit) .\n",
    " \n",
    "    The complete path of python.exe can be added by:\n",
    "      1. Right-clicking This PC and going to Properties.\n",
    "      2. Clicking on the Advanced system settings in the menu on the left.\n",
    "      3. Clicking on the Environment Variables button on the bottom right.\n",
    "      4. In the System variables section, selecting the Path variable and clicking on Edit.\n",
    "      The next screen will show all the directories that are currently a part of the PATH variable. \n",
    "         \n",
    "     Clicking on New and entering Python’s install directory. \n",
    "     \n",
    "     And also download a code editor like VS code ,Pycharm , Jupiter etc. to work on codes smoothly and effectively.\n",
    "     \n"
   ]
  },
  {
   "cell_type": "code",
   "execution_count": null,
   "id": "32fcf8d9-f34e-4563-83b1-984025f4df65",
   "metadata": {},
   "outputs": [],
   "source": [
    "Q16. Is Indentation required in python ?\n",
    "A16. Indentation refers to the spaces at the beginning of a code line. \n",
    "     Where in other programming languages the indentation in code is for readability only, \n",
    "     the indentation in Python is very important. \n",
    "     Python uses indentation to indicate a block of code."
   ]
  },
  {
   "cell_type": "code",
   "execution_count": null,
   "id": "56a04741-7e89-40c9-99f9-33e55cdb8116",
   "metadata": {},
   "outputs": [],
   "source": []
  }
 ],
 "metadata": {
  "kernelspec": {
   "display_name": "Python 3 (ipykernel)",
   "language": "python",
   "name": "python3"
  },
  "language_info": {
   "codemirror_mode": {
    "name": "ipython",
    "version": 3
   },
   "file_extension": ".py",
   "mimetype": "text/x-python",
   "name": "python",
   "nbconvert_exporter": "python",
   "pygments_lexer": "ipython3",
   "version": "3.10.8"
  }
 },
 "nbformat": 4,
 "nbformat_minor": 5
}
